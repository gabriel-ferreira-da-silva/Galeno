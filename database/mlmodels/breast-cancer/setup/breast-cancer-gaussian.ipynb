{
  "cells": [
    {
      "cell_type": "markdown",
      "metadata": {
        "id": "WLCNDUM-wfUN"
      },
      "source": [
        "# gaussian process regression training"
      ]
    },
    {
      "cell_type": "code",
      "execution_count": 1,
      "metadata": {
        "id": "rxpIPmdPwi8M"
      },
      "outputs": [],
      "source": [
        "from sklearn.gaussian_process import GaussianProcessRegressor\n",
        "from sklearn.gaussian_process.kernels import RBF\n",
        "\n",
        "\n",
        "from sklearn.model_selection import train_test_split\n",
        "from sklearn.preprocessing import StandardScaler\n",
        "from sklearn.metrics import accuracy_score\n",
        "from sklearn.metrics import classification_report\n",
        "\n",
        "import pandas as pd\n",
        "\n",
        "df = pd.read_csv('breast-cancer-gaussian-clean.csv')"
      ]
    },
    {
      "cell_type": "code",
      "execution_count": 2,
      "metadata": {
        "id": "-_zDCRTbxc6w"
      },
      "outputs": [
        {
          "ename": "NameError",
          "evalue": "name 'df' is not defined",
          "output_type": "error",
          "traceback": [
            "\u001b[0;31m---------------------------------------------------------------------------\u001b[0m",
            "\u001b[0;31mNameError\u001b[0m                                 Traceback (most recent call last)",
            "Cell \u001b[0;32mIn[2], line 1\u001b[0m\n\u001b[0;32m----> 1\u001b[0m x \u001b[38;5;241m=\u001b[39m \u001b[43mdf\u001b[49m[\u001b[38;5;28msorted\u001b[39m(df\u001b[38;5;241m.\u001b[39mcolumns)]\n\u001b[1;32m      2\u001b[0m \u001b[38;5;28;01mfor\u001b[39;00m column \u001b[38;5;129;01min\u001b[39;00m x\u001b[38;5;241m.\u001b[39mcolumns:\n\u001b[1;32m      3\u001b[0m     \u001b[38;5;28mprint\u001b[39m(column)\n",
            "\u001b[0;31mNameError\u001b[0m: name 'df' is not defined"
          ]
        }
      ],
      "source": [
        "x = df[sorted(df.columns)]\n",
        "for column in x.columns:\n",
        "    print(column)\n",
        "x = x.drop('diagnosis', axis=1)\n",
        "y = df['diagnosis']\n",
        "\n",
        "\n",
        "\n",
        "\n",
        "trainX, testX, trainY, testY = train_test_split(x, y, test_size = 0.2)"
      ]
    },
    {
      "cell_type": "code",
      "execution_count": 8,
      "metadata": {
        "id": "LktJ24RhxsDk"
      },
      "outputs": [],
      "source": [
        "sc=StandardScaler()\n",
        "scaler = sc.fit(trainX)\n",
        "trainX_scaled = scaler.transform(trainX)\n",
        "testX_scaled = scaler.transform(testX)"
      ]
    },
    {
      "cell_type": "code",
      "execution_count": 9,
      "metadata": {
        "id": "DTqtLe3exw4O"
      },
      "outputs": [
        {
          "data": {
            "text/plain": [
              "0.522**2 * RBF(length_scale=2.59)"
            ]
          },
          "execution_count": 9,
          "metadata": {},
          "output_type": "execute_result"
        }
      ],
      "source": [
        "kernel = 1 * RBF(length_scale=1.0, length_scale_bounds=(1e-2, 1e2))\n",
        "gaussian_process = GaussianProcessRegressor(kernel=kernel, n_restarts_optimizer=9)\n",
        "gaussian_process.fit(trainX_scaled, trainY)\n",
        "gaussian_process.kernel_"
      ]
    },
    {
      "cell_type": "code",
      "execution_count": 10,
      "metadata": {
        "colab": {
          "base_uri": "https://localhost:8080/"
        },
        "id": "f-NpXxHvx7n8",
        "outputId": "0994ea0e-e206-4dc4-bf77-dbaa85aa3211"
      },
      "outputs": [
        {
          "name": "stdout",
          "output_type": "stream",
          "text": [
            "Accuracy: 0.92\n"
          ]
        }
      ],
      "source": [
        "from sklearn.metrics import mean_squared_error, accuracy_score  # Import accuracy_score only if it's for classification\n",
        "\n",
        "# Make predictions\n",
        "y_pred = gaussian_process.predict(testX_scaled)\n",
        "\n",
        "# Check if the task is classification or regression\n",
        "if len(set(testY)) <= 2:  # Assuming binary classification\n",
        "    y_pred_classes = (y_pred > 0.5).astype(int)  # Convert probabilities to binary class labels\n",
        "    print('Accuracy: {:.2f}'.format(accuracy_score(testY, y_pred_classes)))\n",
        "else:\n",
        "    mse = mean_squared_error(testY, y_pred)\n",
        "    print('Mean Squared Error: {:.2f}'.format(mse))\n"
      ]
    },
    {
      "cell_type": "code",
      "execution_count": 11,
      "metadata": {},
      "outputs": [],
      "source": [
        "import pickle\n",
        "\n",
        "with open('breast_cancer_gaussian.pkl', 'wb') as file:\n",
        "    pickle.dump(gaussian_process, file)\n",
        "\n",
        "\n",
        "with open('breast-cancer-scaler.pkl', 'wb') as file:\n",
        "    pickle.dump(scaler, file)"
      ]
    }
  ],
  "metadata": {
    "colab": {
      "provenance": []
    },
    "kernelspec": {
      "display_name": "Python 3",
      "name": "python3"
    },
    "language_info": {
      "codemirror_mode": {
        "name": "ipython",
        "version": 3
      },
      "file_extension": ".py",
      "mimetype": "text/x-python",
      "name": "python",
      "nbconvert_exporter": "python",
      "pygments_lexer": "ipython3",
      "version": "3.10.12"
    }
  },
  "nbformat": 4,
  "nbformat_minor": 0
}
